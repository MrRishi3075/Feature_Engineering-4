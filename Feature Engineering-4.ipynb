{
 "cells": [
  {
   "cell_type": "markdown",
   "id": "51c35e37-6e10-4e58-9182-e32bf072ee77",
   "metadata": {},
   "source": [
    "### Q1. What is data encoding? How is it useful in data science?\n"
   ]
  },
  {
   "cell_type": "markdown",
   "id": "fe514504-e1f0-4f70-88b0-dc0261a58455",
   "metadata": {},
   "source": [
    "#### Data encoding refers to the process of converting data from one format or representation to another. In the context of data science, encoding is particularly important for handling categorical variables and ensuring that the data is in a format suitable for analysis or machine learning algorithms.\n",
    "\n",
    "##### There are two main types of encoding commonly used in data science:\n",
    "\n",
    "### 1. Numeric Encoding:\n",
    "\n",
    "#### Label Encoding: \n",
    "* This involves converting categorical labels into numerical representations. Each category is assigned a unique integer. For example, if you have categories like \"Red,\" \"Green,\" and \"Blue,\" you might assign them values like 0, 1, and 2.\n",
    "\n",
    "#### Ordinal Encoding: \n",
    "* Similar to label encoding, but it is used when there is a meaningful order among the categories. For instance, \"low,\" \"medium,\" and \"high\" might be encoded as 0, 1, and 2.\n",
    "\n",
    "### 2. One-Hot Encoding:\n",
    "\n",
    "* * This method is used for categorical variables where no ordinal relationship exists. It creates binary columns for each category and indicates the presence of the category with a 1 and the absence with a 0. One-hot encoding is useful for avoiding ordinality assumptions in models.\n",
    "\n",
    "#### Why is Data Encoding Useful in Data Science?\n",
    "\n",
    "* Algorithm Compatibility: \n",
    "* * Many machine learning algorithms and statistical models require numerical input. By encoding categorical variables into a numeric format, you make your data compatible with a broader range of algorithms.\n",
    "\n",
    "* Model Performance: \n",
    "* * Proper encoding can improve the performance of machine learning models. For example, decision trees and neural networks often work better with one-hot encoding for categorical variables.\n",
    "\n",
    "* Handling Categorical Data: \n",
    "* * Categorical variables, such as color names or product categories, are common in real-world datasets. Encoding allows you to represent these variables in a way that can be effectively used for analysis.\n",
    "\n",
    "* Dimensionality Reduction: \n",
    "* * Encoding categorical variables can help reduce the dimensionality of the dataset, which is beneficial in situations where high-dimensional data may lead to overfitting or increased computational complexity.\n",
    "\n",
    "* Consistency and Standardization: \n",
    "* * Encoding ensures a consistent and standardized representation of data, making it easier to compare and analyze information.\n",
    "\n",
    "###### Data encoding is a crucial step in the data preprocessing pipeline, enabling data scientists to work with a wider range of algorithms and facilitating the analysis of real-world datasets that often contain categorical information."
   ]
  },
  {
   "cell_type": "markdown",
   "id": "c2572221-0ff9-4963-ad04-abc041b8c511",
   "metadata": {},
   "source": [
    "\n",
    "### Q2. What is nominal encoding? Provide an example of how you would use it in a real-world scenario.\n"
   ]
  },
  {
   "cell_type": "markdown",
   "id": "c7f431b3-e41d-44b3-acab-08b4c7383d39",
   "metadata": {},
   "source": [
    "#### Nominal encoding is a type of encoding used for categorical variables without any inherent order or ranking among the categories. In nominal encoding, each category is assigned a unique integer or another representation without implying any ordinal relationship. It is particularly useful when dealing with categorical variables where the order of the categories is not meaningful.\n",
    "\n",
    "#### Example of Nominal Encoding:\n",
    "\n",
    "* Let's consider a real-world scenario where nominal encoding might be applied. Imagine you have a dataset containing information about different countries, and one of the categorical variables is \"Continent,\" which includes categories like \"Asia,\" \"Europe,\" \"North America,\" \"South America,\" and \"Africa.\"\n",
    "\n",
    "##### Here is a sample dataset:"
   ]
  },
  {
   "cell_type": "raw",
   "id": "495aca80-066b-4765-9028-37809681ea4d",
   "metadata": {},
   "source": [
    "| Country     | Continent     | Population (millions) |\n",
    "|-------------|---------------|------------------------|\n",
    "| China       | Asia          | 1444                   |\n",
    "| Germany     | Europe        | 83                     |\n",
    "| Brazil      | South America | 213                    |\n",
    "| Nigeria     | Africa        | 211                    |\n",
    "| USA         | North America | 331                    |\n"
   ]
  },
  {
   "cell_type": "markdown",
   "id": "47e720bf-a71f-4a60-9ac5-8d08054beb34",
   "metadata": {},
   "source": [
    "* * In this case, the \"Continent\" variable is categorical and represents nominal data because there is no inherent order or ranking among continents. To apply nominal encoding to the \"Continent\" variable, you can assign unique numerical labels to each category:"
   ]
  },
  {
   "cell_type": "raw",
   "id": "f35d5e16-5534-4559-8b89-1a37f5c03d39",
   "metadata": {},
   "source": [
    "| Country     | Continent     | Population (millions) |\n",
    "|-------------|---------------|------------------------|\n",
    "| China       | 0             | 1444                   |\n",
    "| Germany     | 1             | 83                     |\n",
    "| Brazil      | 2             | 213                    |\n",
    "| Nigeria     | 3             | 211                    |\n",
    "| USA         | 4             | 331                    |\n"
   ]
  },
  {
   "cell_type": "markdown",
   "id": "c6da2599-699e-4aba-8ffa-1683ab1d6fa6",
   "metadata": {},
   "source": [
    "#### In this example:\n",
    "\n",
    "* \"Asia\" is encoded as 0\n",
    "* \"Europe\" is encoded as 1\n",
    "* \"South America\" is encoded as 2\n",
    "* \"Africa\" is encoded as 3\n",
    "* \"North America\" is encoded as 4\n",
    "##### Nominal encoding in this scenario allows you to represent the \"Continent\" variable in a numerical format without implying any order among the continents. This encoding is suitable for algorithms that do not assume ordinal relationships among categories, such as decision trees or random forests.\n",
    "\n",
    "###### The choice of encoding depends on the nature of the data and the requirements of the specific analysis or machine learning task."
   ]
  },
  {
   "cell_type": "markdown",
   "id": "4295fd68-3aad-45cc-985c-80af1f685977",
   "metadata": {},
   "source": [
    "\n",
    "### Q3. In what situations is nominal encoding preferred over one-hot encoding? Provide a practical example.\n"
   ]
  },
  {
   "cell_type": "markdown",
   "id": "7c61289a-a913-47d8-ba67-b3031e130ea9",
   "metadata": {},
   "source": [
    "#### Nominal encoding and one-hot encoding are two different approaches to represent categorical variables, and the choice between them depends on the nature of the data and the requirements of the specific analysis or machine learning task. Here are situations in which nominal encoding might be preferred over one-hot encoding:\n",
    "\n",
    "##### 1. Cardinality of the Categorical Variable:\n",
    "\n",
    "* Nominal encoding is more suitable when dealing with categorical variables with high cardinality, meaning a large number of unique categories. One-hot encoding would create a large number of binary columns, leading to a high-dimensional dataset and potentially causing issues like the curse of dimensionality. Nominal encoding, on the other hand, reduces the dimensionality to a single column.\n",
    "\n",
    "##### 2. Interpretability:\n",
    "\n",
    "* In some cases, having a single column with nominal encoding may be more interpretable than dealing with multiple binary columns created by one-hot encoding. This is especially true when the order of categories is not relevant to the analysis.\n",
    "\n",
    "##### 3. Reducing Redundancy:\n",
    "\n",
    "* Nominal encoding can be preferred when the categories are mutually exclusive. If a data point belongs to one category, it cannot belong to another. One-hot encoding, in contrast, creates binary columns for each category, and multiple columns can have non-zero values for the same data point, potentially introducing redundancy.\n",
    "\n",
    "##### 4. Algorithms that Handle Numeric Input Well:\n",
    "\n",
    "* Some algorithms, such as decision trees or gradient boosting machines, can effectively handle numeric input and do not necessarily require one-hot encoding. Nominal encoding provides a numeric representation of categories without introducing additional columns.\n",
    "\n",
    "##### Practical Example:\n",
    "\n",
    "* Consider a dataset with a \"City\" variable, where each data point represents a city, and the possible values are the names of the cities. The \"City\" variable is nominal because there is no inherent order among cities. If the dataset contains a large number of cities, applying one-hot encoding would create a binary column for each city, resulting in a high-dimensional dataset.\n",
    "\n",
    "##### Nominal encoding could be a preferable choice in this situation. Each city could be assigned a unique numeric identifier, reducing the \"City\" variable to a single column with integer values. This is particularly useful when the focus is on the association of cities with certain outcomes, and the order of the cities is not meaningful for the analysis."
   ]
  },
  {
   "cell_type": "code",
   "execution_count": null,
   "id": "bff7d668-710e-45eb-9c2e-960b52e71db0",
   "metadata": {},
   "outputs": [],
   "source": [
    "| City        | Population | GDP        |\n",
    "|-------------|------------|------------|\n",
    "| New York     | 8,398,748  | 1.77 trillion |\n",
    "| Tokyo       | 13,515,271 | 1.62 trillion |\n",
    "| London      | 8,908,081  | 2.94 trillion |\n",
    "| Mumbai      | 12,478,447 | 0.37 trillion |\n"
   ]
  },
  {
   "cell_type": "raw",
   "id": "a016ed01-733d-4cf7-bb6c-6d3c127dde46",
   "metadata": {},
   "source": [
    "## In this example, \"City\" could be nominal encoded as follows:"
   ]
  },
  {
   "cell_type": "code",
   "execution_count": null,
   "id": "4894e70b-d2c6-4a65-815d-7839e1776086",
   "metadata": {},
   "outputs": [],
   "source": [
    "| City        | Population | GDP        |\n",
    "|-------------|------------|------------|\n",
    "| 0           | 8,398,748  | 1.77 trillion |\n",
    "| 1           | 13,515,271 | 1.62 trillion |\n",
    "| 2           | 8,908,081  | 2.94 trillion |\n",
    "| 3           | 12,478,447 | 0.37 trillion |\n"
   ]
  },
  {
   "cell_type": "raw",
   "id": "5ba779d5-52f4-4208-9651-1acb96e2eb54",
   "metadata": {},
   "source": [
    "* This way, the \"City\" variable is represented numerically without introducing high dimensionality, making it more manageable for certain types of analyses and machine learning algorithms."
   ]
  },
  {
   "cell_type": "markdown",
   "id": "36694d11-6613-4953-823c-248f287952b0",
   "metadata": {},
   "source": [
    "\n",
    "### Q4. Suppose you have a dataset containing categorical data with 5 unique values. Which encoding technique would you use to transform this data into a format suitable for machine learning algorithms? Explain why you made this choice.\n"
   ]
  },
  {
   "cell_type": "markdown",
   "id": "df48f248-3a63-49e8-a48a-a6595c57b0c5",
   "metadata": {},
   "source": [
    "* The choice of encoding technique depends on the nature of the categorical data and the requirements of the specific machine learning task. In the scenario where you have a dataset with categorical data and 5 unique values, there are a few encoding techniques to consider. The two primary techniques are Label Encoding and One-Hot Encoding.\n",
    "\n",
    "#### 1. Label Encoding:\n",
    "\n",
    "* How it works: In Label Encoding, each unique category is assigned a unique integer label. For example, if you have categories A, B, C, D, and E, they might be encoded as 0, 1, 2, 3, and 4, respectively.\n",
    "\n",
    "* When to use it: Label Encoding is suitable when there is an ordinal relationship among the categories, meaning there is a meaningful order or ranking. However, if the categories do not have a meaningful order, using Label Encoding might imply a false sense of ordinality.\n",
    "\n",
    "* * Example: If the categories represent levels of education (e.g., \"High School,\" \"Bachelor's,\" \"Master's,\" \"Ph.D.,\" \"Other\") and there is a clear order, Label Encoding could be appropriate.\n",
    "\n",
    "#### 2. One-Hot Encoding:\n",
    "\n",
    "* How it works: One-Hot Encoding creates binary columns for each category, representing the presence (1) or absence (0) of the category for each observation. Each category gets its own column.\n",
    "\n",
    "* When to use it: One-Hot Encoding is suitable when there is no ordinal relationship among the categories, and all categories are equally important. It is often used when dealing with nominal data.\n",
    "\n",
    "* * Example: If the categories represent colors (e.g., \"Red,\" \"Green,\" \"Blue,\" \"Yellow,\" \"Purple\"), and there is no inherent order among them, One-Hot Encoding would be a good choice.\n",
    "\n",
    "#### 3. Choice and Explanation:\n",
    "\n",
    "* In the absence of additional information about the nature of the categorical data, and assuming that the categories do not have a meaningful order or ranking, One-Hot Encoding is often a safe and commonly used choice. One-Hot Encoding ensures that the machine learning algorithm does not make assumptions about the ordinal relationships among the categories.\n",
    "\n",
    "* * For a dataset with 5 unique values, One-Hot Encoding would create 5 binary columns, each representing the presence or absence of a specific category. This helps prevent the model from incorrectly interpreting numeric labels as having meaningful order.\n"
   ]
  },
  {
   "cell_type": "raw",
   "id": "de78a51f-c9ec-4c8e-8207-664f8d91e1e5",
   "metadata": {},
   "source": [
    "| Category |\n",
    "|----------|\n",
    "| A        |\n",
    "| B        |\n",
    "| C        |\n",
    "| D        |\n",
    "| E        |\n"
   ]
  },
  {
   "cell_type": "raw",
   "id": "5584d97f-4bfa-4612-a229-c19f21d39b9c",
   "metadata": {},
   "source": [
    "One-Hot Encoding:\n",
    "-------------------------\n",
    "| A | B | C | D | E |\n",
    "|---|---|---|---|---|\n",
    "| 1 | 0 | 0 | 0 | 0 |\n",
    "| 0 | 1 | 0 | 0 | 0 |\n",
    "| 0 | 0 | 1 | 0 | 0 |\n",
    "| 0 | 0 | 0 | 1 | 0 |\n",
    "| 0 | 0 | 0 | 0 | 1 |\n"
   ]
  },
  {
   "cell_type": "markdown",
   "id": "533a68dd-23f2-4810-ba0a-cad1cf110aa1",
   "metadata": {},
   "source": [
    "#### This way, each category is represented independently, and the model can properly interpret the categorical information without assuming any ordinal relationships."
   ]
  },
  {
   "cell_type": "markdown",
   "id": "6c2fb508-435d-4651-9f2c-9cbec85a698d",
   "metadata": {},
   "source": [
    "\n",
    "### Q5. In a machine learning project, you have a dataset with 1000 rows and 5 columns. Two of the columns are categorical, and the remaining three columns are numerical. If you were to use nominal encoding to transform the categorical data, how many new columns would be created? Show your calculations.\n"
   ]
  },
  {
   "cell_type": "markdown",
   "id": "25253150-2c1d-4b19-98a5-2e805677260c",
   "metadata": {},
   "source": [
    "#### If you use nominal encoding on categorical data, each unique category in each categorical column would be assigned a unique integer label. Therefore, for each categorical column, the number of new columns created would be equal to the number of unique categories minus one (since you can represent the information about a categorical variable with (N−1) binary columns, where \n",
    "* ( N is the number of unique categories ).\n",
    "\n",
    "####  Let's calculate the total number of new columns for nominal encoding in Python. Assuming you have a DataFrame 'df'  with 1000 rows and 5 columns:"
   ]
  },
  {
   "cell_type": "code",
   "execution_count": 3,
   "id": "dae3283f-bc1b-45f2-890c-7f43e0585bb7",
   "metadata": {},
   "outputs": [
    {
     "name": "stdout",
     "output_type": "stream",
     "text": [
      "Original DataFrame:\n",
      "   Numeric1  Numeric2  Numeric3 Category1 Category2\n",
      "0         1        10       100         A         X\n",
      "1         2        20       200         B         Y\n",
      "2         3        30       300         A         X\n",
      "3         4        40       400         C         Z\n",
      "4         5        50       500         B         Z\n",
      "\n",
      "DataFrame after Nominal Encoding:\n",
      "   Numeric1  Numeric2  Numeric3  Category1_B  Category1_C  Category2_Y  \\\n",
      "0         1        10       100            0            0            0   \n",
      "1         2        20       200            1            0            1   \n",
      "2         3        30       300            0            0            0   \n",
      "3         4        40       400            0            1            0   \n",
      "4         5        50       500            1            0            0   \n",
      "\n",
      "   Category2_Z  \n",
      "0            0  \n",
      "1            0  \n",
      "2            0  \n",
      "3            1  \n",
      "4            1  \n",
      "\n",
      "Number of new columns created: 2\n"
     ]
    }
   ],
   "source": [
    "import pandas as pd\n",
    "\n",
    "# Creating a sample DataFrame\n",
    "data = {\n",
    "    'Numeric1': [1, 2, 3, 4, 5],\n",
    "    'Numeric2': [10, 20, 30, 40, 50],\n",
    "    'Numeric3': [100, 200, 300, 400, 500],\n",
    "    'Category1': ['A', 'B', 'A', 'C', 'B'],\n",
    "    'Category2': ['X', 'Y', 'X', 'Z', 'Z']\n",
    "}\n",
    "\n",
    "df = pd.DataFrame(data)\n",
    "\n",
    "# Display the original DataFrame\n",
    "print(\"Original DataFrame:\")\n",
    "print(df)\n",
    "\n",
    "# Nominal encoding for categorical columns\n",
    "df_encoded = pd.get_dummies(df, columns=['Category1', 'Category2'], drop_first=True)\n",
    "\n",
    "# Display the DataFrame after encoding\n",
    "print(\"\\nDataFrame after Nominal Encoding:\")\n",
    "print(df_encoded)\n",
    "\n",
    "# Calculate the number of new columns created\n",
    "num_new_columns = df_encoded.shape[1] - df.shape[1]\n",
    "\n",
    "# Display the number of new columns created\n",
    "print(f\"\\nNumber of new columns created: {num_new_columns}\")\n"
   ]
  },
  {
   "cell_type": "markdown",
   "id": "74045718-4d7e-4c40-8b05-139b44f43060",
   "metadata": {},
   "source": [
    "In this example, pd.get_dummies() is used to perform nominal encoding, creating new columns for each unique category in the specified categorical columns (['Category1', 'Category2']). The \"drop_first=True\" parameter is set to create \n",
    "(N−1)  binary columns for each categorical variable.\n",
    "\n",
    "* * The \"num_new_columns\"  variable then represents the total number of new columns created by nominal encoding."
   ]
  },
  {
   "cell_type": "markdown",
   "id": "05ba6d44-a43c-4951-bc15-a9b9b95932ad",
   "metadata": {},
   "source": [
    "\n",
    "### Q6. You are working with a dataset containing information about different types of animals, including their species, habitat, and diet. Which encoding technique would you use to transform the categorical data into a format suitable for machine learning algorithms? Justify your answer.\n"
   ]
  },
  {
   "cell_type": "markdown",
   "id": "0e15d0fe-a216-43b0-a867-e6f207f7418e",
   "metadata": {},
   "source": [
    "#### The choice of encoding technique for transforming categorical data in a machine learning dataset depends on the nature of the categorical variables and the specific requirements of the machine learning task. In the context of a dataset containing information about different types of animals, including their species, habitat, and diet, the appropriate encoding technique may vary for each categorical variable. Here are a few considerations:\n",
    "\n",
    "1. Species (Nominal Variable):\n",
    "\n",
    "* If the \"Species\" variable represents different species of animals and there is no inherent order or ranking among them, one suitable encoding technique is One-Hot Encoding. One-Hot Encoding will create binary columns for each species, representing the presence or absence of each species. This is effective when there is no meaningful ordinal relationship among the species.\n",
    "\n",
    "2. Habitat (Nominal Variable):\n",
    "\n",
    "* Similar to \"Species,\" if \"Habitat\" represents different types of habitats (e.g., \"Forest,\" \"Desert,\" \"Aquatic\"), and there is no specific order or ranking, One-Hot Encoding would be appropriate. It allows each habitat to be represented independently without introducing ordinal assumptions.\n",
    "\n",
    "3. Diet (Nominal or Ordinal Variable):\n",
    "\n",
    "* If \"Diet\" represents the type of diet each animal follows (e.g., \"Carnivore,\" \"Herbivore,\" \"Omnivore\"), and there is no meaningful order, One-Hot Encoding can be applied. However, if there is an inherent order (e.g., \"Herbivore\" < \"Omnivore\" < \"Carnivore\"), and this order is meaningful for the analysis, Label Encoding might be considered.\n",
    "\n",
    "* * In summary:\n",
    "\n",
    "* Nominal Variables (e.g., Species, Habitat): One-Hot Encoding is a suitable choice when there is no inherent order among categories.\n",
    "\n",
    "* Ordinal Variables (e.g., Diet with meaningful order): Label Encoding might be appropriate if the order is significant. If the order is not meaningful, One-Hot Encoding can still be used.\n",
    "\n",
    "* The key is to choose an encoding technique that aligns with the nature of the data and the assumptions of the machine learning algorithm you plan to use. One-Hot Encoding is often a safe choice for nominal variables as it avoids introducing ordinality assumptions, and it is widely supported by various machine learning algorithms."
   ]
  },
  {
   "cell_type": "markdown",
   "id": "71b16a4e-0be7-4667-86f0-5c444a9e39c6",
   "metadata": {},
   "source": [
    "\n",
    "### Q7.You are working on a project that involves predicting customer churn for a telecommunications company. You have a dataset with 5 features, including the customer's gender, age, contract type, monthly charges, and tenure. Which encoding technique(s) would you use to transform the categorical data into numerical data? Provide a step-by-step explanation of how you would implement the encoding.\n"
   ]
  },
  {
   "cell_type": "markdown",
   "id": "8ba65a35-d7a3-429f-a2a6-c5176069c721",
   "metadata": {},
   "source": [
    "#### For predicting customer churn in a telecommunications company, where you have a dataset with categorical features like gender and contract type, and numerical features like age, monthly charges, and tenure, you would likely need to encode the categorical variables into numerical format. Commonly used encoding techniques include Label Encoding and One-Hot Encoding. The specific choice depends on the nature of each categorical variable.\n",
    "\n",
    "##### Let's go through the encoding process step by step:\n",
    "\n",
    "1. Identify Categorical Variables:\n",
    "* Identify which features are categorical. In your case, \"gender\" and \"contract type\" are likely categorical.\n",
    "\n",
    "2. Decide on Encoding Technique:\n",
    "* Gender (Binary Categorical):\n",
    "\n",
    "* * Since gender is binary (e.g., \"Male\" or \"Female\"), you can use Label Encoding. Assign 0 to one category and 1 to the other.\n",
    "\n",
    "* Contract Type (Non-Binary Categorical):\n",
    "\n",
    "* * If there are only two contract types (e.g., \"Month-to-Month\" and \"One Year\"), you can also use Label Encoding.\n",
    "\n",
    "* If there are more than two contract types, One-Hot Encoding is a better choice. It creates binary columns for each category, avoiding ordinal assumptions.\n",
    "\n",
    "3. Implement Encoding in Python:"
   ]
  },
  {
   "cell_type": "code",
   "execution_count": 4,
   "id": "f00c3bb0-5e53-43d8-80bd-6a4cd98642ca",
   "metadata": {},
   "outputs": [
    {
     "name": "stdout",
     "output_type": "stream",
     "text": [
      "   gender  age  monthly_charges  tenure churn  contract_type_One Year  \\\n",
      "0       1   25             50.0      12    No                       0   \n",
      "1       0   30             65.0      24   Yes                       1   \n",
      "2       1   22             45.0       8    No                       0   \n",
      "3       0   35             80.0      36    No                       0   \n",
      "4       1   28             55.0      15   Yes                       1   \n",
      "\n",
      "   contract_type_Two Year  \n",
      "0                       0  \n",
      "1                       0  \n",
      "2                       0  \n",
      "3                       1  \n",
      "4                       0  \n"
     ]
    }
   ],
   "source": [
    "import pandas as pd\n",
    "from sklearn.preprocessing import LabelEncoder\n",
    "\n",
    "# Sample dataset\n",
    "data = {\n",
    "    'gender': ['Male', 'Female', 'Male', 'Female', 'Male'],\n",
    "    'age': [25, 30, 22, 35, 28],\n",
    "    'contract_type': ['Month-to-Month', 'One Year', 'Month-to-Month', 'Two Year', 'One Year'],\n",
    "    'monthly_charges': [50.0, 65.0, 45.0, 80.0, 55.0],\n",
    "    'tenure': [12, 24, 8, 36, 15],\n",
    "    'churn': ['No', 'Yes', 'No', 'No', 'Yes']\n",
    "}\n",
    "\n",
    "df = pd.DataFrame(data)\n",
    "\n",
    "# Identify categorical columns\n",
    "categorical_columns = ['gender', 'contract_type']\n",
    "\n",
    "# Apply Label Encoding for binary categorical variables\n",
    "label_encoder = LabelEncoder()\n",
    "df['gender'] = label_encoder.fit_transform(df['gender'])\n",
    "\n",
    "# Apply Label or One-Hot Encoding for non-binary categorical variables\n",
    "df_encoded = pd.get_dummies(df, columns=['contract_type'], drop_first=True)\n",
    "\n",
    "# Display the DataFrame after encoding\n",
    "print(df_encoded)\n"
   ]
  },
  {
   "cell_type": "raw",
   "id": "f3b5c6b3-f5f5-4f43-9563-70b30db002fe",
   "metadata": {},
   "source": [
    "In this example, Label Encoding is used for the binary categorical variable \"gender,\" and One-Hot Encoding is applied to the non-binary categorical variable \"contract_type.\"\n",
    "\n",
    "After encoding, you would have a DataFrame (df_encoded) with numerical representations of the categorical variables, making it suitable for machine learning algorithms."
   ]
  },
  {
   "cell_type": "code",
   "execution_count": null,
   "id": "7b0a8f6c-7cbd-4b11-88aa-3a06c2ab7fa4",
   "metadata": {},
   "outputs": [],
   "source": []
  }
 ],
 "metadata": {
  "kernelspec": {
   "display_name": "Python 3 (ipykernel)",
   "language": "python",
   "name": "python3"
  },
  "language_info": {
   "codemirror_mode": {
    "name": "ipython",
    "version": 3
   },
   "file_extension": ".py",
   "mimetype": "text/x-python",
   "name": "python",
   "nbconvert_exporter": "python",
   "pygments_lexer": "ipython3",
   "version": "3.10.8"
  }
 },
 "nbformat": 4,
 "nbformat_minor": 5
}
